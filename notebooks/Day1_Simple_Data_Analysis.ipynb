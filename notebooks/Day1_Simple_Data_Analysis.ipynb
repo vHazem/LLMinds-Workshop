{
 "cells": [
  {
   "cell_type": "markdown",
   "id": "87b27a16",
   "metadata": {},
   "source": [
    "# Day 1: Simple FAQ Data Analysis\n",
    "## Quick Look at Our FAQ Dataset (15 minutes)\n",
    "\n",
    "Let's explore our FAQ data to understand what we're working with!"
   ]
  },
  {
   "cell_type": "code",
   "execution_count": 2,
   "id": "1b3ac921",
   "metadata": {},
   "outputs": [],
   "source": [
    "# Simple setup\n",
    "import pandas as pd\n",
    "import matplotlib.pyplot as plt\n",
    "\n",
    "# Load our FAQ data\n",
    "df = pd.read_csv(r\"C:\\Users\\vHaze\\Desktop\\LLMinds\\workshop2\\data\\simple_faq.csv\")\n",
    "\n",
    "print(f\"We have {len(df)} FAQ entries\")\n",
    "print(f\"Categories: {list(df['category'].unique())}\")\n",
    "\n",
    "# Show first few rows\n",
    "df.head()"
   ]
  },
  {
   "cell_type": "code",
   "execution_count": 3,
   "id": "30e18b6f",
   "metadata": {},
   "outputs": [],
   "source": [
    "# Quick data exploration\n",
    "print(\"=== FAQ Categories ===\")\n",
    "category_counts = df['category'].value_counts()\n",
    "print(category_counts)\n",
    "\n",
    "# Simple visualization\n",
    "plt.figure(figsize=(8, 5))\n",
    "category_counts.plot(kind='bar')\n",
    "plt.title('FAQ Questions by Category')\n",
    "plt.xticks(rotation=45)\n",
    "plt.tight_layout()\n",
    "plt.show()\n",
    "\n",
    "# Look at question lengths\n",
    "df['question_length'] = df['question'].str.len()\n",
    "print(f\"\\nAverage question length: {df['question_length'].mean():.1f} characters\")\n",
    "print(f\"Shortest question: {df['question_length'].min()} characters\")\n",
    "print(f\"Longest question: {df['question_length'].max()} characters\")"
   ]
  },
  {
   "cell_type": "markdown",
   "id": "12c9c1a4",
   "metadata": {},
   "source": [
    "## Summary\n",
    "- We have a clean FAQ dataset ready for RAG\n",
    "- Good variety of categories \n",
    "- Questions are reasonable length\n",
    "- Ready for Day 2: Building the RAG chatbot!"
   ]
  }
 ],
 "metadata": {
  "kernelspec": {
   "display_name": "Python [conda env:base] *",
   "language": "python",
   "name": "conda-base-py"
  }
 },
 "nbformat": 4,
 "nbformat_minor": 5
}
